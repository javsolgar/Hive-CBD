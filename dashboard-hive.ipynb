{
 "cells": [
  {
   "cell_type": "code",
   "execution_count": 1,
   "id": "australian-accused",
   "metadata": {},
   "outputs": [],
   "source": [
    "import pandas as pd\n",
    "import matplotlib.pyplot as plt\n",
    "from matplotlib import transforms\n",
    "from ipywidgets import interact, fixed\n",
    "import os"
   ]
  },
  {
   "cell_type": "markdown",
   "id": "acknowledged-stewart",
   "metadata": {},
   "source": [
    "## Definir funciones de las consultas"
   ]
  },
  {
   "cell_type": "code",
   "execution_count": 2,
   "id": "defensive-maximum",
   "metadata": {},
   "outputs": [],
   "source": [
    "opciones = [\n",
    "    'Financiacion',\n",
    "    'Gratuitas por categoria',\n",
    "    'Descargas por categoria',\n",
    "    'Apps de pago mas vendidas',\n",
    "    'Nuevas aplicaciones en pandemia (Play Store)',\n",
    "    'Nuevas aplicaciones en pandemia (App Store)',\n",
    "    'Nuevas aplicaciones en pandemia (Windows Store)',\n",
    "]\n",
    "\n",
    "def carga_consultas():\n",
    "    consultas = dict()\n",
    "    for file in os.listdir('./datos_consultas'):\n",
    "        name = file[:-4]\n",
    "        consultas[name] = pd.read_csv('./datos_consultas/'+file)\n",
    "    return consultas\n",
    "\n",
    "def obten_porcentajes_financiacion(consultas):\n",
    "    labels = ['Gratis','Compras','Publicidad']\n",
    "    barras = [consultas['1.1'].values[0][0], consultas['1.2'].values[0][0], consultas['1.3'].values[0][0]]\n",
    "\n",
    "    plt.figure(figsize = (14,7), dpi=200)\n",
    "    plt.title('Métodos de financiación utilizado por las aplicaciones', fontsize=20)\n",
    "    plt.barh(labels, barras)\n",
    "    plt.yticks(fontsize=13)\n",
    "    plt.xticks(fontsize=13)\n",
    "    plt.show()\n",
    "    \n",
    "def obten_porcentajes_gratuitas_categoria(consultas):\n",
    "    labels = [str(i) for i in consultas['2']['category']]\n",
    "    barras = consultas['2']['porcentaje_gratuitas'].values.tolist()\n",
    "\n",
    "    plt.figure( figsize=(9,12), dpi=200)\n",
    "    plt.title('Porcentaje de aplicaciones gratuitas por categoría')\n",
    "    plt.barh(labels, barras)\n",
    "    plt.yticks()\n",
    "    plt.xticks()\n",
    "    plt.show()\n",
    "    \n",
    "def obten_descargas_categoria(consultas):\n",
    "    labels = [str(i) for i in consultas['4']['category']]\n",
    "    barras = consultas['4']['instalaciones'].values.tolist()\n",
    "\n",
    "    plt.figure( figsize=(16,12), dpi=200)\n",
    "    plt.title('Número de descargas por categoría')\n",
    "    plt.barh(labels, barras)\n",
    "    plt.yticks()\n",
    "    plt.xticks()\n",
    "    plt.show()\n",
    "    \n",
    "def obten_nuevas_pandemia_play(consultas):\n",
    "    labels = [str(i) for i in consultas['5.2-play']['category']]\n",
    "    barras = consultas['5.2-play']['aplicaciones'].values.tolist()\n",
    "\n",
    "    plt.figure( figsize=(16,12), dpi=200)\n",
    "    plt.title('Nuevas aplicaciones publicadas durante la pandemia en la Play Store')\n",
    "    plt.barh(labels, barras)\n",
    "    plt.yticks()\n",
    "    plt.xticks()\n",
    "    plt.show()\n",
    "    \n",
    "def obten_nuevas_pandemia_app(consultas):\n",
    "    labels = [str(i) for i in consultas['5.2-app']['category']]\n",
    "    barras = consultas['5.2-app']['aplicaciones'].values.tolist()\n",
    "\n",
    "    plt.figure( figsize=(16,12), dpi=200)\n",
    "    plt.title('Nuevas aplicaciones publicadas durante la pandemia en la App Store')\n",
    "    plt.barh(labels, barras)\n",
    "    plt.yticks()\n",
    "    plt.xticks()\n",
    "    plt.show()\n",
    "    \n",
    "def obten_nuevas_pandemia_windows(consultas):\n",
    "    labels = [str(i) for i in consultas['5.2-windows']['category']]\n",
    "    barras = consultas['5.2-windows']['aplicaciones'].values.tolist()\n",
    "\n",
    "    plt.figure( figsize=(16,12), dpi=200)\n",
    "    plt.title('Nuevas aplicaciones publicadas durante la pandemia en la Windows Store')\n",
    "    plt.barh(labels, barras)\n",
    "    plt.yticks()\n",
    "    plt.xticks()\n",
    "    plt.show()\n",
    "    \n",
    "def obten_pago_mas_vendidos(consultas):\n",
    "    especiales = consultas['3'].loc[consultas['3'].max_installs>=10000000, :]\n",
    "    normales = consultas['3'].loc[consultas['3'].max_installs<10000000, :]\n",
    "    \n",
    "\n",
    "    i = 0\n",
    "    traducion = dict()\n",
    "    for categoria in consultas['3'].category.unique()[::-1]:\n",
    "        traducion[categoria] = i\n",
    "        i += 1\n",
    "\n",
    "    x_normales = [traducion[i] for i in normales.category.values]\n",
    "    plt.figure(figsize=(16,12),dpi=200)\n",
    "    plt.title('Aplicaciones de pago más descargadas (Decenas de millones)')\n",
    "    plt.scatter(normales['max_installs'].values, x_normales)\n",
    "\n",
    "    for i in range(especiales.shape[0]):\n",
    "        plt.scatter(especiales.iloc[i, 2], traducion[especiales.iloc[i, 1]],  label=especiales.iloc[i,0])\n",
    "\n",
    "    plt.legend()\n",
    "    plt.yticks([i for i in range(len(traducion))], traducion.keys())\n",
    "    plt.show()\n",
    "    \n",
    "def seleccione_consulta(consulta='financiacion'):\n",
    "    consultas = carga_consultas()\n",
    "    if consulta == 'Financiacion':\n",
    "        obten_porcentajes_financiacion(consultas)\n",
    "    elif consulta == 'Gratuitas por categoria':\n",
    "        obten_porcentajes_gratuitas_categoria(consultas)\n",
    "    elif consulta == 'Descargas por categoria':\n",
    "        obten_descargas_categoria(consultas)\n",
    "    elif consulta == 'Nuevas aplicaciones en pandemia (Play Store)':\n",
    "        obten_nuevas_pandemia_play(consultas)\n",
    "    elif consulta == 'Nuevas aplicaciones en pandemia (App Store)':\n",
    "        obten_nuevas_pandemia_app(consultas)\n",
    "    elif consulta == 'Nuevas aplicaciones en pandemia (Windows Store)':\n",
    "        obten_nuevas_pandemia_windows(consultas)\n",
    "    else:\n",
    "       obten_pago_mas_vendidos(consultas) "
   ]
  },
  {
   "cell_type": "markdown",
   "id": "spiritual-episode",
   "metadata": {},
   "source": [
    "# Dashboard"
   ]
  },
  {
   "cell_type": "code",
   "execution_count": 3,
   "id": "encouraging-spain",
   "metadata": {
    "scrolled": false
   },
   "outputs": [
    {
     "data": {
      "application/vnd.jupyter.widget-view+json": {
       "model_id": "94baadff378b47e2ab2f1eecafb16def",
       "version_major": 2,
       "version_minor": 0
      },
      "text/plain": [
       "interactive(children=(Dropdown(description='consulta', options=('Financiacion', 'Gratuitas por categoria', 'De…"
      ]
     },
     "metadata": {},
     "output_type": "display_data"
    },
    {
     "data": {
      "text/plain": [
       "<function __main__.seleccione_consulta(consulta='financiacion')>"
      ]
     },
     "execution_count": 3,
     "metadata": {},
     "output_type": "execute_result"
    }
   ],
   "source": [
    "interact(seleccione_consulta, consulta=opciones)"
   ]
  },
  {
   "cell_type": "code",
   "execution_count": null,
   "id": "lonely-delight",
   "metadata": {},
   "outputs": [],
   "source": []
  }
 ],
 "metadata": {
  "kernelspec": {
   "display_name": "Python 3",
   "language": "python",
   "name": "python3"
  },
  "language_info": {
   "codemirror_mode": {
    "name": "ipython",
    "version": 3
   },
   "file_extension": ".py",
   "mimetype": "text/x-python",
   "name": "python",
   "nbconvert_exporter": "python",
   "pygments_lexer": "ipython3",
   "version": "3.8.5"
  }
 },
 "nbformat": 4,
 "nbformat_minor": 5
}
